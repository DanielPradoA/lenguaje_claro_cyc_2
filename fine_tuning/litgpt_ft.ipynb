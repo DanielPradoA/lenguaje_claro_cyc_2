{
  "nbformat": 4,
  "nbformat_minor": 0,
  "metadata": {
    "colab": {
      "provenance": [],
      "authorship_tag": "ABX9TyNPvG1u+V+ZJeEgjBFTu5Pi",
      "include_colab_link": true
    },
    "kernelspec": {
      "name": "python3",
      "display_name": "Python 3"
    },
    "language_info": {
      "name": "python"
    }
  },
  "cells": [
    {
      "cell_type": "markdown",
      "metadata": {
        "id": "view-in-github",
        "colab_type": "text"
      },
      "source": [
        "<a href=\"https://colab.research.google.com/github/menpente/lenguaje_claro_cyc_2/blob/main/fine_tuning/litgpt_ft.ipynb\" target=\"_parent\"><img src=\"https://colab.research.google.com/assets/colab-badge.svg\" alt=\"Open In Colab\"/></a>"
      ]
    },
    {
      "cell_type": "code",
      "execution_count": null,
      "metadata": {
        "id": "5V3Mi10ghUsA"
      },
      "outputs": [],
      "source": [
        "!pip install litgpt"
      ]
    },
    {
      "cell_type": "markdown",
      "source": [
        "PENDIENTE: PREPARAR CUSTOM DATASET SIGUIENDO UN FORMATO SIMILAR A ESTE\n",
        "\n",
        "\n",
        "[\n",
        "  {\n",
        "    \"instruction\": \"Translate the following English text to French.\",\n",
        "    \"input\": \"Hello, how are you?\",\n",
        "    \"output\": \"Bonjour, comment ça va?\"\n",
        "  },\n",
        "  {\n",
        "    \"instruction\": \"Summarize the following article.\",\n",
        "    \"input\": \"The article discusses the impact of climate change on polar bears...\",\n",
        "    \"output\": \"The article highlights the severe impact of climate change on polar bear populations...\"\n",
        "  }\n",
        "]\n",
        "\n",
        "\n",
        "Podemos crear el dataset en Excel o similar y luego utilizar pandas para guardar como json. El fichero debe llamarse my_custom_dataset.json"
      ],
      "metadata": {
        "id": "35fy6-0dlm6t"
      }
    },
    {
      "cell_type": "code",
      "source": [
        "#entrenamos el modelo con nuestros datos\n",
        "!litgpt finetune microsoft/phi-2 \\\n",
        "  --data JSON \\\n",
        "  --data.json_path my_custom_dataset.json \\\n",
        "  --data.val_split_fraction 0.1 \\\n",
        "  --out_dir out/custom-model"
      ],
      "metadata": {
        "id": "x0EnqDsYjSzw"
      },
      "execution_count": null,
      "outputs": []
    },
    {
      "cell_type": "code",
      "source": [
        "#lo probamos\n",
        "!litgpt chat out/custom-model/final"
      ],
      "metadata": {
        "id": "B7IUWXcrnLYx"
      },
      "execution_count": null,
      "outputs": []
    }
  ]
}