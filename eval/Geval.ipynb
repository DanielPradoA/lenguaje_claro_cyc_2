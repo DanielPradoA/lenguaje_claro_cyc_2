{
  "nbformat": 4,
  "nbformat_minor": 0,
  "metadata": {
    "colab": {
      "provenance": [],
      "authorship_tag": "ABX9TyNja57Y/dEhKBMjtz2bjGd3",
      "include_colab_link": true
    },
    "kernelspec": {
      "name": "python3",
      "display_name": "Python 3"
    },
    "language_info": {
      "name": "python"
    }
  },
  "cells": [
    {
      "cell_type": "markdown",
      "metadata": {
        "id": "view-in-github",
        "colab_type": "text"
      },
      "source": [
        "<a href=\"https://colab.research.google.com/github/menpente/lenguaje_claro_cyc_2/blob/main/eval/Geval.ipynb\" target=\"_parent\"><img src=\"https://colab.research.google.com/assets/colab-badge.svg\" alt=\"Open In Colab\"/></a>"
      ]
    },
    {
      "cell_type": "code",
      "execution_count": null,
      "metadata": {
        "id": "27Va_UlHyAwW"
      },
      "outputs": [],
      "source": [
        "!pip install deepeval"
      ]
    },
    {
      "cell_type": "code",
      "source": [
        "OPENAI_API_KEY=\"\""
      ],
      "metadata": {
        "id": "vipdlJ-Ky7Xy"
      },
      "execution_count": null,
      "outputs": []
    },
    {
      "cell_type": "code",
      "source": [
        "#Crear métricas específicas para tareas\n",
        "from deepeval.test_case import LLMTestCase, LLMTestCaseParams\n",
        "from deepeval.metrics import GEval\n",
        "\n",
        "test_case = LLMTestCase(input=\"input to your LLM\", actual_output=\"your LLM output\")\n",
        "coherence_metric = GEval(\n",
        "    name=\"Coherence\",\n",
        "    criteria=\"Coherence - the collective quality of all sentences in the actual output\",\n",
        "    evaluation_params=[LLMTestCaseParams.ACTUAL_OUTPUT],\n",
        ")\n",
        "\n",
        "coherence_metric.measure(test_case)\n",
        "print(coherence_metric.score)\n",
        "print(coherence_metric.reason)"
      ],
      "metadata": {
        "id": "hpXwqXshzdR4"
      },
      "execution_count": null,
      "outputs": []
    }
  ]
}