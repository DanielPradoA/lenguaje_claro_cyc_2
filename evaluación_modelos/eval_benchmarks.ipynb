{
  "nbformat": 4,
  "nbformat_minor": 0,
  "metadata": {
    "colab": {
      "provenance": [],
      "authorship_tag": "ABX9TyMY6L6t67dSCtKuAMaT4sci",
      "include_colab_link": true
    },
    "kernelspec": {
      "name": "python3",
      "display_name": "Python 3"
    },
    "language_info": {
      "name": "python"
    }
  },
  "cells": [
    {
      "cell_type": "markdown",
      "metadata": {
        "id": "view-in-github",
        "colab_type": "text"
      },
      "source": [
        "<a href=\"https://colab.research.google.com/github/menpente/lenguaje_claro_cyc_2/blob/main/evaluaci%C3%B3n_modelos/eval_benchmarks.ipynb\" target=\"_parent\"><img src=\"https://colab.research.google.com/assets/colab-badge.svg\" alt=\"Open In Colab\"/></a>"
      ]
    },
    {
      "cell_type": "code",
      "execution_count": null,
      "metadata": {
        "id": "5V3Mi10ghUsA"
      },
      "outputs": [],
      "source": [
        "!pip install litgpt\n",
        "!pip install git+https://github.com/EleutherAI/lm-evaluation-harness.git"
      ]
    },
    {
      "cell_type": "code",
      "source": [
        "!litgpt evaluate microsoft/phi-2 --tasks 'truthfulqa_mc2,mmlu'"
      ],
      "metadata": {
        "id": "x0EnqDsYjSzw"
      },
      "execution_count": null,
      "outputs": []
    }
  ]
}